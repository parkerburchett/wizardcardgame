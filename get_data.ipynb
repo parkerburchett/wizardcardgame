{
 "cells": [
  {
   "cell_type": "code",
   "execution_count": 30,
   "metadata": {},
   "outputs": [],
   "source": [
    "from simulate_wizard import Game\n",
    "import pandas as pd\n",
    "import matplotlib.pyplot as plt\n",
    "import numpy as np\n",
    "\n",
    "distribtions = []\n",
    "\n",
    "for n_players in range(3, 8):\n",
    "    for n_cards in range(1,20):\n",
    "        if n_cards * n_players <= 59:\n",
    "            results = []\n",
    "            for _ in range(10_000):\n",
    "                a_game = Game(n_players=n_players,n_cards=n_cards)\n",
    "                res = a_game.compute_results()\n",
    "                results.extend(res)\n",
    "\n",
    "            save_name = f'data/records_{n_players}_{n_cards}.csv'\n",
    "            df = pd.DataFrame.from_records(results)\n",
    "            df.to_csv(save_name)\n",
    "            distribtions.append((n_cards,n_players, df['n_won'].value_counts(normalize=True).values*100))"
   ]
  },
  {
   "cell_type": "code",
   "execution_count": 32,
   "metadata": {},
   "outputs": [],
   "source": [
    "df = pd.DataFrame.from_records(distribtions)"
   ]
  },
  {
   "cell_type": "code",
   "execution_count": 37,
   "metadata": {},
   "outputs": [
    {
     "data": {
      "text/html": [
       "<div>\n",
       "<style scoped>\n",
       "    .dataframe tbody tr th:only-of-type {\n",
       "        vertical-align: middle;\n",
       "    }\n",
       "\n",
       "    .dataframe tbody tr th {\n",
       "        vertical-align: top;\n",
       "    }\n",
       "\n",
       "    .dataframe thead th {\n",
       "        text-align: right;\n",
       "    }\n",
       "</style>\n",
       "<table border=\"1\" class=\"dataframe\">\n",
       "  <thead>\n",
       "    <tr style=\"text-align: right;\">\n",
       "      <th></th>\n",
       "      <th>n_cards</th>\n",
       "      <th>n_players</th>\n",
       "      <th>dist</th>\n",
       "    </tr>\n",
       "  </thead>\n",
       "  <tbody>\n",
       "    <tr>\n",
       "      <th>19</th>\n",
       "      <td>1</td>\n",
       "      <td>4</td>\n",
       "      <td>[75.0, 25.0]</td>\n",
       "    </tr>\n",
       "    <tr>\n",
       "      <th>20</th>\n",
       "      <td>2</td>\n",
       "      <td>4</td>\n",
       "      <td>[58.8, 32.4, 8.799999999999999]</td>\n",
       "    </tr>\n",
       "    <tr>\n",
       "      <th>21</th>\n",
       "      <td>3</td>\n",
       "      <td>4</td>\n",
       "      <td>[46.805, 35.05, 14.485000000000001, 3.66]</td>\n",
       "    </tr>\n",
       "    <tr>\n",
       "      <th>22</th>\n",
       "      <td>4</td>\n",
       "      <td>4</td>\n",
       "      <td>[37.3125, 35.655, 18.29, 7.205, 1.5375]</td>\n",
       "    </tr>\n",
       "    <tr>\n",
       "      <th>23</th>\n",
       "      <td>5</td>\n",
       "      <td>4</td>\n",
       "      <td>[34.2375, 30.2475, 21.0225, 10.035, 3.675, 0.7...</td>\n",
       "    </tr>\n",
       "    <tr>\n",
       "      <th>24</th>\n",
       "      <td>6</td>\n",
       "      <td>4</td>\n",
       "      <td>[32.085, 24.635, 22.735, 12.2775, 5.975, 2.042...</td>\n",
       "    </tr>\n",
       "    <tr>\n",
       "      <th>25</th>\n",
       "      <td>7</td>\n",
       "      <td>4</td>\n",
       "      <td>[30.2125, 23.48, 19.79, 14.057500000000001, 7....</td>\n",
       "    </tr>\n",
       "    <tr>\n",
       "      <th>26</th>\n",
       "      <td>8</td>\n",
       "      <td>4</td>\n",
       "      <td>[27.66, 23.727500000000003, 16.342499999999998...</td>\n",
       "    </tr>\n",
       "    <tr>\n",
       "      <th>27</th>\n",
       "      <td>9</td>\n",
       "      <td>4</td>\n",
       "      <td>[24.4725, 23.985, 16.86, 13.444999999999999, 1...</td>\n",
       "    </tr>\n",
       "    <tr>\n",
       "      <th>28</th>\n",
       "      <td>10</td>\n",
       "      <td>4</td>\n",
       "      <td>[23.572499999999998, 22.445, 17.285, 11.584999...</td>\n",
       "    </tr>\n",
       "    <tr>\n",
       "      <th>29</th>\n",
       "      <td>11</td>\n",
       "      <td>4</td>\n",
       "      <td>[22.605, 20.2525, 17.665, 12.16, 9.15, 8.18, 5...</td>\n",
       "    </tr>\n",
       "    <tr>\n",
       "      <th>30</th>\n",
       "      <td>12</td>\n",
       "      <td>4</td>\n",
       "      <td>[21.81, 18.4525, 17.9275, 12.992500000000001, ...</td>\n",
       "    </tr>\n",
       "    <tr>\n",
       "      <th>31</th>\n",
       "      <td>13</td>\n",
       "      <td>4</td>\n",
       "      <td>[20.8625, 18.392500000000002, 15.4675000000000...</td>\n",
       "    </tr>\n",
       "    <tr>\n",
       "      <th>32</th>\n",
       "      <td>14</td>\n",
       "      <td>4</td>\n",
       "      <td>[19.4375, 18.775, 14.31, 13.8625, 10.225, 7.32...</td>\n",
       "    </tr>\n",
       "  </tbody>\n",
       "</table>\n",
       "</div>"
      ],
      "text/plain": [
       "    n_cards  n_players                                               dist\n",
       "19        1          4                                       [75.0, 25.0]\n",
       "20        2          4                    [58.8, 32.4, 8.799999999999999]\n",
       "21        3          4          [46.805, 35.05, 14.485000000000001, 3.66]\n",
       "22        4          4            [37.3125, 35.655, 18.29, 7.205, 1.5375]\n",
       "23        5          4  [34.2375, 30.2475, 21.0225, 10.035, 3.675, 0.7...\n",
       "24        6          4  [32.085, 24.635, 22.735, 12.2775, 5.975, 2.042...\n",
       "25        7          4  [30.2125, 23.48, 19.79, 14.057500000000001, 7....\n",
       "26        8          4  [27.66, 23.727500000000003, 16.342499999999998...\n",
       "27        9          4  [24.4725, 23.985, 16.86, 13.444999999999999, 1...\n",
       "28       10          4  [23.572499999999998, 22.445, 17.285, 11.584999...\n",
       "29       11          4  [22.605, 20.2525, 17.665, 12.16, 9.15, 8.18, 5...\n",
       "30       12          4  [21.81, 18.4525, 17.9275, 12.992500000000001, ...\n",
       "31       13          4  [20.8625, 18.392500000000002, 15.4675000000000...\n",
       "32       14          4  [19.4375, 18.775, 14.31, 13.8625, 10.225, 7.32..."
      ]
     },
     "execution_count": 37,
     "metadata": {},
     "output_type": "execute_result"
    }
   ],
   "source": [
    "df.columns = ['n_cards','n_players', 'dist']\n",
    "df[df['n_players'] == 4]"
   ]
  },
  {
   "cell_type": "code",
   "execution_count": 40,
   "metadata": {},
   "outputs": [
    {
     "data": {
      "text/plain": [
       "['data/records_5_10.csv',\n",
       " 'data/records_5_2.csv',\n",
       " 'data/records_5_6.csv',\n",
       " 'data/records_5_4.csv',\n",
       " 'data/records_5_7.csv',\n",
       " 'data/records_5_9.csv',\n",
       " 'data/records_5_11.csv',\n",
       " 'data/records_5_3.csv',\n",
       " 'data/records_5_1.csv',\n",
       " 'data/records_5_8.csv',\n",
       " 'data/records_5_5.csv']"
      ]
     },
     "execution_count": 40,
     "metadata": {},
     "output_type": "execute_result"
    }
   ],
   "source": [
    "import glob\n",
    "\n",
    "dfs_with_5_players = glob.glob(\"data/records_5*\")\n",
    "\n"
   ]
  },
  {
   "cell_type": "markdown",
   "metadata": {},
   "source": [
    "# Answer questions\n",
    "\n",
    "Given amoung hands with a wizard what is the optimal bet?"
   ]
  },
  {
   "cell_type": "code",
   "execution_count": 92,
   "metadata": {},
   "outputs": [
    {
     "data": {
      "text/html": [
       "<div>\n",
       "<style scoped>\n",
       "    .dataframe tbody tr th:only-of-type {\n",
       "        vertical-align: middle;\n",
       "    }\n",
       "\n",
       "    .dataframe tbody tr th {\n",
       "        vertical-align: top;\n",
       "    }\n",
       "\n",
       "    .dataframe thead th {\n",
       "        text-align: right;\n",
       "    }\n",
       "</style>\n",
       "<table border=\"1\" class=\"dataframe\">\n",
       "  <thead>\n",
       "    <tr style=\"text-align: right;\">\n",
       "      <th></th>\n",
       "      <th>n_players</th>\n",
       "      <th>n_cards</th>\n",
       "      <th>n_won</th>\n",
       "      <th>trump</th>\n",
       "      <th>hand</th>\n",
       "    </tr>\n",
       "  </thead>\n",
       "  <tbody>\n",
       "    <tr>\n",
       "      <th>0</th>\n",
       "      <td>5</td>\n",
       "      <td>4</td>\n",
       "      <td>1</td>\n",
       "      <td>spades</td>\n",
       "      <td>[10-spades, 12-diamonds, 9-diamonds, 14-hearts]</td>\n",
       "    </tr>\n",
       "    <tr>\n",
       "      <th>1</th>\n",
       "      <td>5</td>\n",
       "      <td>4</td>\n",
       "      <td>0</td>\n",
       "      <td>spades</td>\n",
       "      <td>[7-spades, 13-diamonds, 7-hearts, 7-diamonds]</td>\n",
       "    </tr>\n",
       "    <tr>\n",
       "      <th>2</th>\n",
       "      <td>5</td>\n",
       "      <td>4</td>\n",
       "      <td>2</td>\n",
       "      <td>spades</td>\n",
       "      <td>[8-spades, wizard, 10-clubs, 6-spades]</td>\n",
       "    </tr>\n",
       "    <tr>\n",
       "      <th>3</th>\n",
       "      <td>5</td>\n",
       "      <td>4</td>\n",
       "      <td>0</td>\n",
       "      <td>spades</td>\n",
       "      <td>[14-diamonds, wizard, 5-hearts, 11-clubs]</td>\n",
       "    </tr>\n",
       "    <tr>\n",
       "      <th>4</th>\n",
       "      <td>5</td>\n",
       "      <td>4</td>\n",
       "      <td>1</td>\n",
       "      <td>spades</td>\n",
       "      <td>[12-spades, 5-clubs, 2-spades, 4-clubs]</td>\n",
       "    </tr>\n",
       "    <tr>\n",
       "      <th>...</th>\n",
       "      <td>...</td>\n",
       "      <td>...</td>\n",
       "      <td>...</td>\n",
       "      <td>...</td>\n",
       "      <td>...</td>\n",
       "    </tr>\n",
       "    <tr>\n",
       "      <th>49995</th>\n",
       "      <td>5</td>\n",
       "      <td>4</td>\n",
       "      <td>2</td>\n",
       "      <td>diamonds</td>\n",
       "      <td>[9-clubs, 5-spades, 12-hearts, 13-hearts]</td>\n",
       "    </tr>\n",
       "    <tr>\n",
       "      <th>49996</th>\n",
       "      <td>5</td>\n",
       "      <td>4</td>\n",
       "      <td>0</td>\n",
       "      <td>diamonds</td>\n",
       "      <td>[jester, 2-hearts, 6-clubs, 2-clubs]</td>\n",
       "    </tr>\n",
       "    <tr>\n",
       "      <th>49997</th>\n",
       "      <td>5</td>\n",
       "      <td>4</td>\n",
       "      <td>1</td>\n",
       "      <td>diamonds</td>\n",
       "      <td>[3-hearts, 2-diamonds, jester, 5-clubs]</td>\n",
       "    </tr>\n",
       "    <tr>\n",
       "      <th>49998</th>\n",
       "      <td>5</td>\n",
       "      <td>4</td>\n",
       "      <td>0</td>\n",
       "      <td>diamonds</td>\n",
       "      <td>[9-spades, 4-clubs, 11-spades, wizard]</td>\n",
       "    </tr>\n",
       "    <tr>\n",
       "      <th>49999</th>\n",
       "      <td>5</td>\n",
       "      <td>4</td>\n",
       "      <td>1</td>\n",
       "      <td>diamonds</td>\n",
       "      <td>[14-hearts, jester, 6-diamonds, 8-clubs]</td>\n",
       "    </tr>\n",
       "  </tbody>\n",
       "</table>\n",
       "<p>50000 rows × 5 columns</p>\n",
       "</div>"
      ],
      "text/plain": [
       "       n_players  n_cards  n_won     trump  \\\n",
       "0              5        4      1    spades   \n",
       "1              5        4      0    spades   \n",
       "2              5        4      2    spades   \n",
       "3              5        4      0    spades   \n",
       "4              5        4      1    spades   \n",
       "...          ...      ...    ...       ...   \n",
       "49995          5        4      2  diamonds   \n",
       "49996          5        4      0  diamonds   \n",
       "49997          5        4      1  diamonds   \n",
       "49998          5        4      0  diamonds   \n",
       "49999          5        4      1  diamonds   \n",
       "\n",
       "                                                  hand  \n",
       "0      [10-spades, 12-diamonds, 9-diamonds, 14-hearts]  \n",
       "1        [7-spades, 13-diamonds, 7-hearts, 7-diamonds]  \n",
       "2               [8-spades, wizard, 10-clubs, 6-spades]  \n",
       "3            [14-diamonds, wizard, 5-hearts, 11-clubs]  \n",
       "4              [12-spades, 5-clubs, 2-spades, 4-clubs]  \n",
       "...                                                ...  \n",
       "49995        [9-clubs, 5-spades, 12-hearts, 13-hearts]  \n",
       "49996             [jester, 2-hearts, 6-clubs, 2-clubs]  \n",
       "49997          [3-hearts, 2-diamonds, jester, 5-clubs]  \n",
       "49998           [9-spades, 4-clubs, 11-spades, wizard]  \n",
       "49999         [14-hearts, jester, 6-diamonds, 8-clubs]  \n",
       "\n",
       "[50000 rows x 5 columns]"
      ]
     },
     "execution_count": 92,
     "metadata": {},
     "output_type": "execute_result"
    }
   ],
   "source": [
    "results = []\n",
    "for _ in range(10_000):\n",
    "                a_game = Game(n_players=5,n_cards=4)\n",
    "                res = a_game.compute_results()\n",
    "                results.extend(res)\n",
    "\n",
    "df = pd.DataFrame.from_records(results)\n",
    "df"
   ]
  },
  {
   "cell_type": "code",
   "execution_count": 93,
   "metadata": {},
   "outputs": [
    {
     "data": {
      "text/plain": [
       "1"
      ]
     },
     "execution_count": 93,
     "metadata": {},
     "output_type": "execute_result"
    }
   ],
   "source": [
    "def count_trump(hand, trump):\n",
    "    # might want to opimize\n",
    "    n_trump = 0\n",
    "    for card in hand:\n",
    "        if trump == card.suit:\n",
    "            n_trump +=1\n",
    "    return n_trump\n",
    "\n",
    "a_hand = df['hand'].values[0]\n",
    "count_trump(a_hand, 'spades')"
   ]
  },
  {
   "cell_type": "code",
   "execution_count": 94,
   "metadata": {},
   "outputs": [
    {
     "name": "stdout",
     "output_type": "stream",
     "text": [
      "CPU times: user 345 ms, sys: 0 ns, total: 345 ms\n",
      "Wall time: 344 ms\n"
     ]
    }
   ],
   "source": [
    "%%time\n",
    "df['n_trump'] = df.apply(lambda row: count_trump(hand=row['hand'], trump=row['trump']), axis=1)"
   ]
  },
  {
   "cell_type": "code",
   "execution_count": 95,
   "metadata": {},
   "outputs": [
    {
     "data": {
      "text/plain": [
       "1    21083\n",
       "0    20111\n",
       "2     7712\n",
       "3     1054\n",
       "4       40\n",
       "Name: n_trump, dtype: int64"
      ]
     },
     "execution_count": 95,
     "metadata": {},
     "output_type": "execute_result"
    }
   ],
   "source": [
    "df['n_trump'].value_counts()"
   ]
  },
  {
   "cell_type": "code",
   "execution_count": 101,
   "metadata": {},
   "outputs": [
    {
     "data": {
      "text/plain": [
       "0    0.150156\n",
       "1    0.419865\n",
       "2    0.322355\n",
       "3    0.089860\n",
       "4    0.017765\n",
       "Name: n_won, dtype: float64"
      ]
     },
     "execution_count": 101,
     "metadata": {},
     "output_type": "execute_result"
    }
   ],
   "source": [
    "outcomes_when_one_trump = df[df['n_trump']==2]\n",
    "outcomes_when_one_trump['n_won'].value_counts(normalize=True).sort_index()"
   ]
  }
 ],
 "metadata": {
  "interpreter": {
   "hash": "916dbcbb3f70747c44a77c7bcd40155683ae19c65e1c03b4aa3499c5328201f1"
  },
  "kernelspec": {
   "display_name": "Python 3.8.10 64-bit",
   "language": "python",
   "name": "python3"
  },
  "language_info": {
   "codemirror_mode": {
    "name": "ipython",
    "version": 3
   },
   "file_extension": ".py",
   "mimetype": "text/x-python",
   "name": "python",
   "nbconvert_exporter": "python",
   "pygments_lexer": "ipython3",
   "version": "3.8.10"
  },
  "orig_nbformat": 4
 },
 "nbformat": 4,
 "nbformat_minor": 2
}
